{
 "cells": [
  {
   "cell_type": "markdown",
   "metadata": {},
   "source": [
    "This was my \"working draft\" version of this project. Am in the middle of using this to create my Final version cleaned/consolidated in other notebook."
   ]
  },
  {
   "cell_type": "markdown",
   "metadata": {},
   "source": [
    "This project will look at historical short interest rates of S&P 500 stocks to see what (if any) correlations have existed between the level of short interest and future returns.\n",
    "\n",
    "My interest in this arose today reading about the all-time high short ratios for the S&P500 ETF being reached last week. The article made this sound like a negative trend, and listed historicaly short ratios (though, the data for the ETF only went back 3 years, so not really a great sample size).\n",
    "\n",
    "I'm curious how a high level of short interest has correlated with future returns over the next 6 to 24 month periods.\n",
    "\n",
    "I've been playing around with learning how to scrape stock and other financial data from the web so this will be a great opportunity to put some of that learning into practice.\n",
    "\n",
    "NOTE TO SELF - If/When I turn this into a portfolio project: make a new copy and take out a lot of the exploration stuff."
   ]
  },
  {
   "cell_type": "markdown",
   "metadata": {},
   "source": [
    "I'll store this in a dataframe with a multi-index: \n",
    "    * ticker - this will be the outer level \n",
    "    * datetime - the inner index will be a datetime index with the trading days\n",
    "\n",
    "The df will have 4 columns of interest: \n",
    "    * short_pct - this will be the level of short volume trading as a pct of total volume trading on the given day\n",
    "       (The volume of trading will be pulled from Quandl's FINRA dataset, I'll calculate the %)\n",
    "    * 6mo_forward, 1yr_forward, 2yr_forward - these columns will show (as a %) the actual forward return from that given date\n",
    "        (I'll download the historical stock price data using yfinance, and then calculate the forward % returns myself)\n",
    "\n",
    "Ultimately, I would like to get a database of my own going for the S&P 500 stocks.\n",
    "\n",
    "Initially, I'll just start with a random sample of 5 of them.\n",
    "    * I'll make the sample random by scraping the web for the full list of S&P 500 stocks, then call the sample method on it"
   ]
  },
  {
   "cell_type": "code",
   "execution_count": 92,
   "metadata": {},
   "outputs": [],
   "source": [
    "### First up, let me scrape together a list of the S&P 500 stocks from Wikipedia.\n",
    "### This seems like a good skill to practice\n",
    "\n",
    "# Imports - the example I'm following for this uses urllib.request instead of requests\n",
    "import urllib.request\n",
    "from bs4 import BeautifulSoup\n",
    "import pandas as pd\n",
    "\n",
    "# Specify url to scrape\n",
    "url = 'https://en.wikipedia.org/wiki/List_of_S%26P_500_companies'\n",
    "\n",
    "# Open the url request and save to page variable\n",
    "page = urllib.request.urlopen(url)\n",
    "\n",
    "# Parse the HTHML into BeautifulSoup (this guy says Jupyter notebooks prefer a parser format...what is 'lxml')\n",
    "soup = BeautifulSoup(page, 'lxml')\n",
    "\n",
    "### To this point, I've gotten my html page into a BeautifulSoup object\n",
    "### The next step is to actually look at the HTML code in the webpage to get an idea of how it's laid out\n",
    "### You can go to the page, right click and view source through a browser - or look using the prettify function.\n",
    "\n",
    "# Examine the HTML structure using prettify\n",
    "###print(soup.prettify())\n",
    "### this prints a mess of html"
   ]
  },
  {
   "cell_type": "markdown",
   "metadata": {},
   "source": [
    "When I print the soup.prettify it looks like quite a mess. However, it helps knowing that the data I\"m looking for is in a table on the page itself and that the columns of this table I'm looking for are the first two: Symbol and Security (which I'll call ticker and name when I set up my dataframe).\n",
    "\n",
    "Ctrl+F to find \"table\" in the above mess takes me to this line:\n",
    "<table class=\"wikitable sortable\" id=\"constituents\">\n",
    "\n",
    "This is the start of the table of interest.\n",
    "\n",
    "Refresh of HTML tables:\n",
    "    * rows start with a <tr> tag and end with a </tr> tag\n",
    "    * the row of headers has <th> tags\n",
    "    * the data rows beneath the header have <th> tags\n",
    "        \n",
    "Those tags are how we will get the data we're looking for from this page."
   ]
  },
  {
   "cell_type": "code",
   "execution_count": 48,
   "metadata": {},
   "outputs": [
    {
     "data": {
      "text/plain": [
       "<title>List of S&amp;P 500 companies - Wikipedia</title>"
      ]
     },
     "execution_count": 48,
     "metadata": {},
     "output_type": "execute_result"
    }
   ],
   "source": [
    "### First, some playing around with BeautifulSoup functions\n",
    "\n",
    "soup.title"
   ]
  },
  {
   "cell_type": "code",
   "execution_count": 49,
   "metadata": {},
   "outputs": [
    {
     "data": {
      "text/plain": [
       "'List of S&P 500 companies - Wikipedia'"
      ]
     },
     "execution_count": 49,
     "metadata": {},
     "output_type": "execute_result"
    }
   ],
   "source": [
    "# More playing around\n",
    "soup.title.string"
   ]
  },
  {
   "cell_type": "code",
   "execution_count": 93,
   "metadata": {},
   "outputs": [],
   "source": [
    "# Since we are looking for a table, we can use this to return all the tables\n",
    "all_tables = soup.find_all('table')\n",
    "###all_tables\n",
    "### this prints a mess of html broken out by tables"
   ]
  },
  {
   "cell_type": "code",
   "execution_count": 94,
   "metadata": {},
   "outputs": [],
   "source": [
    "# From the above, we see that the table in question is a class 'wikitable sortable', THIS can be used with find_all\n",
    "ticker_table = soup.find('table', class_='wikitable sortable')\n",
    "###ticker_table\n",
    "### another HTML mess"
   ]
  },
  {
   "cell_type": "code",
   "execution_count": 96,
   "metadata": {},
   "outputs": [],
   "source": [
    "# Initialize lists to \"catch\" the Symbols and Security Names\n",
    "symbols = []\n",
    "securities =[]\n",
    "\n",
    "# Took me quite a bit of time to figure this out, but got it!\n",
    "## Leaving this \"print\" loop here because this was how I figured out what to do for the next loop that actually appends.\n",
    "\n",
    "for row in ticker_table.find_all('tr'):  \n",
    "    # This creates an iterable of all the cells within each row\n",
    "    cells=row.findAll('td')\n",
    "    # This is used for 'counting' which cells to grab. Through printing out the string of every single cell\n",
    "    # I was able to see which \"number\" in each row was needed.\n",
    "    count = 1\n",
    "    # This cycles through the cells in each row one by one and grabs the first two (which are all I need)\n",
    "    for cell in cells:\n",
    "        if count == 1:\n",
    "            # For the Symbols, Wikipedia has them as links, so needed to grab the \"string\" portion of the href\n",
    "            #print(cell.find('a', href=True).string)\n",
    "            count += 1\n",
    "        elif count == 2:\n",
    "            # The company names were just listed as strings, so in the second cell of each row could just grab it\n",
    "            #print(cell.string)\n",
    "            count +=1\n",
    "        else:\n",
    "            count +=1\n",
    "            continue\n",
    "\n",
    "            ### This outputs the list of tickers and stock names - this was me practicing the loop with a print call\n",
    "            ### to make sure it was printing out what I wanted it to"
   ]
  },
  {
   "cell_type": "markdown",
   "metadata": {},
   "source": [
    "TROUBLESHOOTING DONE\n",
    "\n",
    "The code above was me trying to create the loop below, running into trouble, and then troubleshooting the loop by printing each line to see what I was getting.\n",
    "\n",
    "After I worked my way to the above, I just replaced the print() calls with appends so that instead of printing each string it gets appended to the appropriate list."
   ]
  },
  {
   "cell_type": "code",
   "execution_count": 53,
   "metadata": {},
   "outputs": [],
   "source": [
    "# This is my loop from above, but replaced print with append\n",
    "\n",
    "for row in ticker_table.find_all('tr'):  \n",
    "    # This creates an iterable of all the cells within each row\n",
    "    cells=row.findAll('td')\n",
    "    count = 1\n",
    "    # This cycles through the cells in each row one by one and grabs the first two (which are all I need)\n",
    "    for cell in cells:\n",
    "        if count == 1:\n",
    "            # For the Symbols, Wikipedia has them as links, so needed to grab the \"string\" portion of the href\n",
    "            symbols.append(cell.find('a', href=True).string)\n",
    "            count += 1\n",
    "        elif count == 2:\n",
    "            # The company names were just listed as strings, so in the second cell of each row could just grab it\n",
    "            securities.append(cell.string)\n",
    "            count +=1\n",
    "        else:\n",
    "            count +=1\n",
    "            continue"
   ]
  },
  {
   "cell_type": "code",
   "execution_count": 54,
   "metadata": {},
   "outputs": [
    {
     "name": "stdout",
     "output_type": "stream",
     "text": [
      "['MMM', 'ABT', 'ABBV', 'ABMD', 'ACN', 'ATVI', 'ADBE', 'AMD', 'AAP', 'AES']\n"
     ]
    }
   ],
   "source": [
    "# Check symbols\n",
    "print(symbols[0:10])"
   ]
  },
  {
   "cell_type": "code",
   "execution_count": 55,
   "metadata": {},
   "outputs": [
    {
     "name": "stdout",
     "output_type": "stream",
     "text": [
      "['3M Company', 'Abbott Laboratories', 'AbbVie Inc.', 'ABIOMED Inc', 'Accenture plc', 'Activision Blizzard', 'Adobe Inc.', 'Advanced Micro Devices Inc', 'Advance Auto Parts', 'AES Corp']\n"
     ]
    }
   ],
   "source": [
    "# Check securities\n",
    "print(securities[0:10])"
   ]
  },
  {
   "cell_type": "markdown",
   "metadata": {},
   "source": [
    "Nailed it! That was quite a doozy. But hammered out some useful things to know.\n",
    "\n",
    "In particular - you can grab the hyperlinks in an HTML doc would soup.find('a', href=True). the href=True part prints the text of the link, and then accessing the .string turns that into a string. This is really useful to remember.\n",
    "\n",
    "Next up - I'm going to start my dataframe with all of the S&P 500 companies, though I'll run sample to get a sample of 5 that I'll use for my initial run."
   ]
  },
  {
   "cell_type": "code",
   "execution_count": 56,
   "metadata": {},
   "outputs": [
    {
     "name": "stdout",
     "output_type": "stream",
     "text": [
      "  ticker                 name\n",
      "0    MMM           3M Company\n",
      "1    ABT  Abbott Laboratories\n",
      "2   ABBV          AbbVie Inc.\n",
      "3   ABMD          ABIOMED Inc\n",
      "4    ACN        Accenture plc\n",
      "<class 'pandas.core.frame.DataFrame'>\n",
      "RangeIndex: 505 entries, 0 to 504\n",
      "Data columns (total 2 columns):\n",
      "ticker    505 non-null object\n",
      "name      505 non-null object\n",
      "dtypes: object(2)\n",
      "memory usage: 8.0+ KB\n",
      "None\n"
     ]
    }
   ],
   "source": [
    "# Create dataframe with symbol and security as the first two columns\n",
    "df = pd.DataFrame(symbols, columns=['ticker'])\n",
    "df['name'] = securities\n",
    "\n",
    "# Check - note, the S&P 500 is made up of 505 securities from the largest 500 companies\n",
    "print(df.head())\n",
    "print(df.info())"
   ]
  },
  {
   "cell_type": "code",
   "execution_count": 57,
   "metadata": {},
   "outputs": [
    {
     "data": {
      "text/html": [
       "<div>\n",
       "<style scoped>\n",
       "    .dataframe tbody tr th:only-of-type {\n",
       "        vertical-align: middle;\n",
       "    }\n",
       "\n",
       "    .dataframe tbody tr th {\n",
       "        vertical-align: top;\n",
       "    }\n",
       "\n",
       "    .dataframe thead th {\n",
       "        text-align: right;\n",
       "    }\n",
       "</style>\n",
       "<table border=\"1\" class=\"dataframe\">\n",
       "  <thead>\n",
       "    <tr style=\"text-align: right;\">\n",
       "      <th></th>\n",
       "      <th>ticker</th>\n",
       "      <th>name</th>\n",
       "    </tr>\n",
       "  </thead>\n",
       "  <tbody>\n",
       "    <tr>\n",
       "      <td>183</td>\n",
       "      <td>EXR</td>\n",
       "      <td>Extra Space Storage</td>\n",
       "    </tr>\n",
       "    <tr>\n",
       "      <td>298</td>\n",
       "      <td>L</td>\n",
       "      <td>Loews Corp.</td>\n",
       "    </tr>\n",
       "    <tr>\n",
       "      <td>401</td>\n",
       "      <td>RF</td>\n",
       "      <td>Regions Financial Corp.</td>\n",
       "    </tr>\n",
       "    <tr>\n",
       "      <td>309</td>\n",
       "      <td>MA</td>\n",
       "      <td>Mastercard Inc.</td>\n",
       "    </tr>\n",
       "    <tr>\n",
       "      <td>477</td>\n",
       "      <td>VMC</td>\n",
       "      <td>Vulcan Materials</td>\n",
       "    </tr>\n",
       "  </tbody>\n",
       "</table>\n",
       "</div>"
      ],
      "text/plain": [
       "    ticker                     name\n",
       "183    EXR      Extra Space Storage\n",
       "298      L              Loews Corp.\n",
       "401     RF  Regions Financial Corp.\n",
       "309     MA          Mastercard Inc.\n",
       "477    VMC         Vulcan Materials"
      ]
     },
     "execution_count": 57,
     "metadata": {},
     "output_type": "execute_result"
    }
   ],
   "source": [
    "# This is to get my 5 random stocks for the first go. \n",
    "df.sample(5)"
   ]
  },
  {
   "cell_type": "code",
   "execution_count": 58,
   "metadata": {},
   "outputs": [
    {
     "data": {
      "text/html": [
       "<div>\n",
       "<style scoped>\n",
       "    .dataframe tbody tr th:only-of-type {\n",
       "        vertical-align: middle;\n",
       "    }\n",
       "\n",
       "    .dataframe tbody tr th {\n",
       "        vertical-align: top;\n",
       "    }\n",
       "\n",
       "    .dataframe thead th {\n",
       "        text-align: right;\n",
       "    }\n",
       "</style>\n",
       "<table border=\"1\" class=\"dataframe\">\n",
       "  <thead>\n",
       "    <tr style=\"text-align: right;\">\n",
       "      <th></th>\n",
       "      <th>ticker</th>\n",
       "      <th>name</th>\n",
       "    </tr>\n",
       "  </thead>\n",
       "  <tbody>\n",
       "    <tr>\n",
       "      <td>70</td>\n",
       "      <td>BIIB</td>\n",
       "      <td>Biogen Inc.</td>\n",
       "    </tr>\n",
       "    <tr>\n",
       "      <td>239</td>\n",
       "      <td>HST</td>\n",
       "      <td>Host Hotels &amp; Resorts</td>\n",
       "    </tr>\n",
       "    <tr>\n",
       "      <td>258</td>\n",
       "      <td>INTU</td>\n",
       "      <td>Intuit Inc.</td>\n",
       "    </tr>\n",
       "    <tr>\n",
       "      <td>338</td>\n",
       "      <td>NEM</td>\n",
       "      <td>Newmont Corporation</td>\n",
       "    </tr>\n",
       "    <tr>\n",
       "      <td>396</td>\n",
       "      <td>RJF</td>\n",
       "      <td>Raymond James Financial Inc.</td>\n",
       "    </tr>\n",
       "  </tbody>\n",
       "</table>\n",
       "</div>"
      ],
      "text/plain": [
       "    ticker                          name\n",
       "70    BIIB                   Biogen Inc.\n",
       "239    HST         Host Hotels & Resorts\n",
       "258   INTU                   Intuit Inc.\n",
       "338    NEM           Newmont Corporation\n",
       "396    RJF  Raymond James Financial Inc."
      ]
     },
     "execution_count": 58,
     "metadata": {},
     "output_type": "execute_result"
    }
   ],
   "source": [
    "# I ran the list above the first time I made this program, then just hardcoded the random sample here:\n",
    "sample_df = df[df['ticker'].isin(['RJF','BIIB','NEM','INTU','HST'])]\n",
    "sample_df"
   ]
  },
  {
   "cell_type": "markdown",
   "metadata": {},
   "source": [
    "Time to take a breather and recap what I've done/still need to do:\n",
    "\n",
    "Done:\n",
    " - got my S&P 500 dataframe fleshed out with names/ticker symbols\n",
    " - got my random sample of 5 in \"sample_df\"\n",
    "\n",
    "Next up:\n",
    " - using yfinance, download historical price data for each of these\n",
    " - using quandl/pandas_datareader, download historical short volume data from the FINRA dataset\n",
    "\n",
    "From that information, I'll glean the more specific information I need, then append that information to my sample_df dataframe.\n",
    "\n",
    "I'll still need to figure out how to turn that into a multi-level index as well.\n",
    "\n",
    "Let's get the FINRA data first since I was just working with that the other day."
   ]
  },
  {
   "cell_type": "code",
   "execution_count": 59,
   "metadata": {},
   "outputs": [
    {
     "data": {
      "text/html": [
       "<div>\n",
       "<style scoped>\n",
       "    .dataframe tbody tr th:only-of-type {\n",
       "        vertical-align: middle;\n",
       "    }\n",
       "\n",
       "    .dataframe tbody tr th {\n",
       "        vertical-align: top;\n",
       "    }\n",
       "\n",
       "    .dataframe thead th {\n",
       "        text-align: right;\n",
       "    }\n",
       "</style>\n",
       "<table border=\"1\" class=\"dataframe\">\n",
       "  <thead>\n",
       "    <tr style=\"text-align: right;\">\n",
       "      <th></th>\n",
       "      <th>code</th>\n",
       "      <th>name</th>\n",
       "      <th>description</th>\n",
       "      <th>refreshed_at</th>\n",
       "      <th>from_date</th>\n",
       "      <th>to_date</th>\n",
       "    </tr>\n",
       "  </thead>\n",
       "  <tbody>\n",
       "    <tr>\n",
       "      <td>0</td>\n",
       "      <td>FNRA_A</td>\n",
       "      <td>ADF Short Interest: A</td>\n",
       "      <td>This dataset has no description.</td>\n",
       "      <td>11/1/2017 0:22</td>\n",
       "      <td>2/18/2014</td>\n",
       "      <td>11/30/2016</td>\n",
       "    </tr>\n",
       "    <tr>\n",
       "      <td>1</td>\n",
       "      <td>FNRA_AA</td>\n",
       "      <td>ADF Short Interest: AA</td>\n",
       "      <td>This dataset has no description.</td>\n",
       "      <td>11/1/2017 0:22</td>\n",
       "      <td>2/18/2014</td>\n",
       "      <td>11/30/2016</td>\n",
       "    </tr>\n",
       "    <tr>\n",
       "      <td>2</td>\n",
       "      <td>FNRA_AA_</td>\n",
       "      <td>ADF Short Interest: AAp</td>\n",
       "      <td>This dataset has no description.</td>\n",
       "      <td>3/22/2014 1:58</td>\n",
       "      <td>2/24/2014</td>\n",
       "      <td>3/20/2014</td>\n",
       "    </tr>\n",
       "    <tr>\n",
       "      <td>3</td>\n",
       "      <td>FNRA_AAAP</td>\n",
       "      <td>ADF Short Interest: AAAP</td>\n",
       "      <td>This dataset has no description.</td>\n",
       "      <td>11/1/2017 0:22</td>\n",
       "      <td>2/1/2016</td>\n",
       "      <td>11/30/2016</td>\n",
       "    </tr>\n",
       "    <tr>\n",
       "      <td>4</td>\n",
       "      <td>FNRA_AAC</td>\n",
       "      <td>ADF Short Interest: AAC</td>\n",
       "      <td>This dataset has no description.</td>\n",
       "      <td>11/1/2017 0:22</td>\n",
       "      <td>10/2/2014</td>\n",
       "      <td>11/30/2016</td>\n",
       "    </tr>\n",
       "    <tr>\n",
       "      <td>5</td>\n",
       "      <td>FNRA_AADR</td>\n",
       "      <td>ADF Short Interest: AADR</td>\n",
       "      <td>This dataset has no description.</td>\n",
       "      <td>11/1/2017 0:22</td>\n",
       "      <td>6/24/2014</td>\n",
       "      <td>11/30/2016</td>\n",
       "    </tr>\n",
       "    <tr>\n",
       "      <td>6</td>\n",
       "      <td>FNRA_AAL</td>\n",
       "      <td>ADF Short Interest: AAL</td>\n",
       "      <td>This dataset has no description.</td>\n",
       "      <td>11/1/2017 0:22</td>\n",
       "      <td>2/18/2014</td>\n",
       "      <td>11/30/2016</td>\n",
       "    </tr>\n",
       "    <tr>\n",
       "      <td>7</td>\n",
       "      <td>FNRA_AALCP</td>\n",
       "      <td>ADF Short Interest: AALCP</td>\n",
       "      <td>This dataset has no description.</td>\n",
       "      <td>5/15/2014 16:28</td>\n",
       "      <td>3/25/2014</td>\n",
       "      <td>4/7/2014</td>\n",
       "    </tr>\n",
       "    <tr>\n",
       "      <td>8</td>\n",
       "      <td>FNRA_AAMC</td>\n",
       "      <td>ADF Short Interest: AAMC</td>\n",
       "      <td>This dataset has no description.</td>\n",
       "      <td>11/1/2017 0:22</td>\n",
       "      <td>2/18/2014</td>\n",
       "      <td>11/30/2016</td>\n",
       "    </tr>\n",
       "    <tr>\n",
       "      <td>9</td>\n",
       "      <td>FNRA_AAME</td>\n",
       "      <td>ADF Short Interest: AAME</td>\n",
       "      <td>This dataset has no description.</td>\n",
       "      <td>11/1/2017 0:22</td>\n",
       "      <td>2/28/2014</td>\n",
       "      <td>11/30/2016</td>\n",
       "    </tr>\n",
       "  </tbody>\n",
       "</table>\n",
       "</div>"
      ],
      "text/plain": [
       "         code                       name                       description  \\\n",
       "0      FNRA_A      ADF Short Interest: A  This dataset has no description.   \n",
       "1     FNRA_AA     ADF Short Interest: AA  This dataset has no description.   \n",
       "2    FNRA_AA_    ADF Short Interest: AAp  This dataset has no description.   \n",
       "3   FNRA_AAAP   ADF Short Interest: AAAP  This dataset has no description.   \n",
       "4    FNRA_AAC    ADF Short Interest: AAC  This dataset has no description.   \n",
       "5   FNRA_AADR   ADF Short Interest: AADR  This dataset has no description.   \n",
       "6    FNRA_AAL    ADF Short Interest: AAL  This dataset has no description.   \n",
       "7  FNRA_AALCP  ADF Short Interest: AALCP  This dataset has no description.   \n",
       "8   FNRA_AAMC   ADF Short Interest: AAMC  This dataset has no description.   \n",
       "9   FNRA_AAME   ADF Short Interest: AAME  This dataset has no description.   \n",
       "\n",
       "      refreshed_at  from_date     to_date  \n",
       "0   11/1/2017 0:22  2/18/2014  11/30/2016  \n",
       "1   11/1/2017 0:22  2/18/2014  11/30/2016  \n",
       "2   3/22/2014 1:58  2/24/2014   3/20/2014  \n",
       "3   11/1/2017 0:22   2/1/2016  11/30/2016  \n",
       "4   11/1/2017 0:22  10/2/2014  11/30/2016  \n",
       "5   11/1/2017 0:22  6/24/2014  11/30/2016  \n",
       "6   11/1/2017 0:22  2/18/2014  11/30/2016  \n",
       "7  5/15/2014 16:28  3/25/2014    4/7/2014  \n",
       "8   11/1/2017 0:22  2/18/2014  11/30/2016  \n",
       "9   11/1/2017 0:22  2/28/2014  11/30/2016  "
      ]
     },
     "metadata": {},
     "output_type": "display_data"
    },
    {
     "name": "stdout",
     "output_type": "stream",
     "text": [
      "<class 'pandas.core.frame.DataFrame'>\n",
      "RangeIndex: 69458 entries, 0 to 69457\n",
      "Data columns (total 6 columns):\n",
      "code            69458 non-null object\n",
      "name            69458 non-null object\n",
      "description     69458 non-null object\n",
      "refreshed_at    69458 non-null object\n",
      "from_date       69458 non-null object\n",
      "to_date         69458 non-null object\n",
      "dtypes: object(6)\n",
      "memory usage: 3.2+ MB\n"
     ]
    },
    {
     "data": {
      "text/plain": [
       "None"
      ]
     },
     "metadata": {},
     "output_type": "display_data"
    }
   ],
   "source": [
    "# Import and authenticate Quandl, also import datetime\n",
    "import datetime\n",
    "import quandl\n",
    "quandl.ApiConfig.api_key = \"INSERT_HERE\"\n",
    "\n",
    "# Import the csv file with all of securities listed in the FINRA short sale dataset\n",
    "filename = 'finra_short_data.csv'\n",
    "finra_df = pd.read_csv(filename)\n",
    "\n",
    "# Check\n",
    "display(finra_df.head(10))\n",
    "display(finra_df.info())"
   ]
  },
  {
   "cell_type": "markdown",
   "metadata": {},
   "source": [
    "This FINRA dataset contains nearly 70k different securities. Obvsiously way more than the 505 I'll use for this S&P 500 project.\n",
    "\n",
    "But, I do want to use this information to help me glean the relevant codes for my quandl.get() calls.\n",
    "\n",
    "Here's how I'll chop up this finra_df to make it more helpful."
   ]
  },
  {
   "cell_type": "code",
   "execution_count": 60,
   "metadata": {},
   "outputs": [
    {
     "data": {
      "text/html": [
       "<div>\n",
       "<style scoped>\n",
       "    .dataframe tbody tr th:only-of-type {\n",
       "        vertical-align: middle;\n",
       "    }\n",
       "\n",
       "    .dataframe tbody tr th {\n",
       "        vertical-align: top;\n",
       "    }\n",
       "\n",
       "    .dataframe thead th {\n",
       "        text-align: right;\n",
       "    }\n",
       "</style>\n",
       "<table border=\"1\" class=\"dataframe\">\n",
       "  <thead>\n",
       "    <tr style=\"text-align: right;\">\n",
       "      <th></th>\n",
       "      <th>0</th>\n",
       "      <th>1</th>\n",
       "    </tr>\n",
       "  </thead>\n",
       "  <tbody>\n",
       "    <tr>\n",
       "      <td>0</td>\n",
       "      <td>ADF Short Interest</td>\n",
       "      <td>A</td>\n",
       "    </tr>\n",
       "    <tr>\n",
       "      <td>1</td>\n",
       "      <td>ADF Short Interest</td>\n",
       "      <td>AA</td>\n",
       "    </tr>\n",
       "    <tr>\n",
       "      <td>2</td>\n",
       "      <td>ADF Short Interest</td>\n",
       "      <td>AAp</td>\n",
       "    </tr>\n",
       "    <tr>\n",
       "      <td>3</td>\n",
       "      <td>ADF Short Interest</td>\n",
       "      <td>AAAP</td>\n",
       "    </tr>\n",
       "    <tr>\n",
       "      <td>4</td>\n",
       "      <td>ADF Short Interest</td>\n",
       "      <td>AAC</td>\n",
       "    </tr>\n",
       "  </tbody>\n",
       "</table>\n",
       "</div>"
      ],
      "text/plain": [
       "                    0      1\n",
       "0  ADF Short Interest      A\n",
       "1  ADF Short Interest     AA\n",
       "2  ADF Short Interest    AAp\n",
       "3  ADF Short Interest   AAAP\n",
       "4  ADF Short Interest    AAC"
      ]
     },
     "metadata": {},
     "output_type": "display_data"
    }
   ],
   "source": [
    "# Split the name column to break out the tickers\n",
    "ticker_split = finra_df['name'].str.split(':', expand=True)\n",
    "\n",
    "# Check\n",
    "display(ticker_split.head())"
   ]
  },
  {
   "cell_type": "code",
   "execution_count": 61,
   "metadata": {},
   "outputs": [
    {
     "data": {
      "text/html": [
       "<div>\n",
       "<style scoped>\n",
       "    .dataframe tbody tr th:only-of-type {\n",
       "        vertical-align: middle;\n",
       "    }\n",
       "\n",
       "    .dataframe tbody tr th {\n",
       "        vertical-align: top;\n",
       "    }\n",
       "\n",
       "    .dataframe thead th {\n",
       "        text-align: right;\n",
       "    }\n",
       "</style>\n",
       "<table border=\"1\" class=\"dataframe\">\n",
       "  <thead>\n",
       "    <tr style=\"text-align: right;\">\n",
       "      <th></th>\n",
       "      <th>code</th>\n",
       "      <th>from_date</th>\n",
       "      <th>to_date</th>\n",
       "      <th>ticker</th>\n",
       "    </tr>\n",
       "  </thead>\n",
       "  <tbody>\n",
       "    <tr>\n",
       "      <td>0</td>\n",
       "      <td>FNRA_A</td>\n",
       "      <td>2/18/2014</td>\n",
       "      <td>11/30/2016</td>\n",
       "      <td>A</td>\n",
       "    </tr>\n",
       "    <tr>\n",
       "      <td>1</td>\n",
       "      <td>FNRA_AA</td>\n",
       "      <td>2/18/2014</td>\n",
       "      <td>11/30/2016</td>\n",
       "      <td>AA</td>\n",
       "    </tr>\n",
       "    <tr>\n",
       "      <td>2</td>\n",
       "      <td>FNRA_AA_</td>\n",
       "      <td>2/24/2014</td>\n",
       "      <td>3/20/2014</td>\n",
       "      <td>AAp</td>\n",
       "    </tr>\n",
       "    <tr>\n",
       "      <td>3</td>\n",
       "      <td>FNRA_AAAP</td>\n",
       "      <td>2/1/2016</td>\n",
       "      <td>11/30/2016</td>\n",
       "      <td>AAAP</td>\n",
       "    </tr>\n",
       "    <tr>\n",
       "      <td>4</td>\n",
       "      <td>FNRA_AAC</td>\n",
       "      <td>10/2/2014</td>\n",
       "      <td>11/30/2016</td>\n",
       "      <td>AAC</td>\n",
       "    </tr>\n",
       "  </tbody>\n",
       "</table>\n",
       "</div>"
      ],
      "text/plain": [
       "        code  from_date     to_date ticker\n",
       "0     FNRA_A  2/18/2014  11/30/2016      A\n",
       "1    FNRA_AA  2/18/2014  11/30/2016     AA\n",
       "2   FNRA_AA_  2/24/2014   3/20/2014    AAp\n",
       "3  FNRA_AAAP   2/1/2016  11/30/2016   AAAP\n",
       "4   FNRA_AAC  10/2/2014  11/30/2016    AAC"
      ]
     },
     "metadata": {},
     "output_type": "display_data"
    }
   ],
   "source": [
    "# Make a new column in my finra_df with the ticker, then drop uneccesary columns\n",
    "finra_df['ticker'] = ticker_split[1].str.strip()\n",
    "finra_df.drop(labels=['name', 'description', 'refreshed_at'], axis=1, inplace=True)\n",
    "\n",
    "# Check\n",
    "display(finra_df.head())"
   ]
  },
  {
   "cell_type": "code",
   "execution_count": 62,
   "metadata": {},
   "outputs": [
    {
     "name": "stdout",
     "output_type": "stream",
     "text": [
      "            code  from_date     to_date ticker\n",
      "1045   FNRA_BIIB  2/18/2014  11/30/2016   BIIB\n",
      "11852  FNSQ_BIIB   4/1/2013   4/24/2020   BIIB\n",
      "27391  FNYX_BIIB   4/1/2013   4/24/2020   BIIB\n",
      "           code  from_date     to_date ticker\n",
      "4514   FNRA_HST  2/14/2014  11/30/2016    HST\n",
      "16785  FNSQ_HST   4/1/2013   4/24/2020    HST\n",
      "34090  FNYX_HST   4/1/2013   4/24/2020    HST\n",
      "            code  from_date     to_date ticker\n",
      "4890   FNRA_INTU  2/14/2014  11/30/2016   INTU\n",
      "17349  FNSQ_INTU   4/1/2013   4/24/2020   INTU\n",
      "34843  FNYX_INTU   4/1/2013   4/24/2020   INTU\n",
      "           code  from_date     to_date ticker\n",
      "6463   FNRA_NEM  2/14/2014  11/30/2016    NEM\n",
      "19566  FNSQ_NEM   4/1/2013   4/24/2020    NEM\n",
      "37814  FNYX_NEM   4/1/2013   4/24/2020    NEM\n",
      "           code  from_date     to_date ticker\n",
      "7952   FNRA_RJF  2/14/2014  11/30/2016    RJF\n",
      "21791  FNSQ_RJF   4/1/2013   4/24/2020    RJF\n",
      "40712  FNYX_RJF   4/1/2013   4/24/2020    RJF\n"
     ]
    }
   ],
   "source": [
    "# Have my finra_df all cleaned up, now let's practice drawing out the short volumne info\n",
    "short_df = pd.DataFrame()\n",
    "for ticker in sample_df['ticker']:\n",
    "    #### TROUBLESHOOTING - See if I can get it to just print the code for each ticker\n",
    "    # First, let's just try to print each line for the given ticker\n",
    "    print(finra_df[finra_df['ticker']==ticker])\n",
    "\n",
    "    \n",
    "### You know what, scratch this whole section. Every code that I want is of the same format: FNYX_ticker\n",
    "\n",
    "### I'll pick up here, and just make a loop that creates a string that is that plus the ticker, then gets that info.\n"
   ]
  },
  {
   "cell_type": "markdown",
   "metadata": {},
   "source": [
    "TROUBLESHOOTING DONE\n",
    "\n",
    "So I realized that there are multiple codes for each ticker symbol. To keep things consistent, I'll use the FNYX_ + ticker code for each. From my review of the Quandl FINRA info for this set I believe that corresponds to the NYSE listing.\n",
    "\n",
    "Also, instead of using the .get_index() method I was trying to use before, I can make things a bit simpler by just filtering down to only one row inside of the loop.\n",
    "\n",
    "Watch and learn. (or, rather, practice) :-)"
   ]
  },
  {
   "cell_type": "code",
   "execution_count": 63,
   "metadata": {},
   "outputs": [],
   "source": [
    "# Still have my short_df from above that will be used to store the results of my quandl.get()s\n",
    "short_df = pd.DataFrame()\n",
    "\n",
    "# Change dates in my finra_df to date objects\n",
    "finra_df['from_date'] = pd.to_datetime(finra_df['from_date'])\n",
    "finra_df['to_date'] = pd.to_datetime(finra_df['to_date'])\n",
    "\n",
    "# My new loop to loop through tickers in my list\n",
    "for ticker in sample_df['ticker']:\n",
    "    \n",
    "    # Format the code I want based on the ticker and for my quandl call\n",
    "    code = 'FNYX_' + ticker\n",
    "    q_code = 'FINRA/' + code\n",
    "    \n",
    "    # Create a row of all the data for that row so I can access it easily\n",
    "    filtered_row = finra_df[finra_df['code']==code]\n",
    "    \n",
    "    # Use Quandl to grab the short volumne info based on the code and relevant dates\n",
    "    data = quandl.get(q_code, start_date=filtered_row['from_date'], end_date=filtered_row['to_date'])\n",
    "    \n",
    "    # Add a ticker column to data\n",
    "    data['Ticker']=ticker\n",
    "    \n",
    "    # Append the data grabbed to short_df\n",
    "    short_df = short_df.append(data)"
   ]
  },
  {
   "cell_type": "code",
   "execution_count": 64,
   "metadata": {},
   "outputs": [
    {
     "name": "stdout",
     "output_type": "stream",
     "text": [
      "<class 'pandas.core.frame.DataFrame'>\n",
      "DatetimeIndex: 8875 entries, 2013-04-01 to 2020-04-24\n",
      "Data columns (total 4 columns):\n",
      "ShortVolume          8875 non-null float64\n",
      "ShortExemptVolume    8875 non-null float64\n",
      "TotalVolume          8875 non-null float64\n",
      "Ticker               8875 non-null object\n",
      "dtypes: float64(3), object(1)\n",
      "memory usage: 346.7+ KB\n",
      "None\n",
      "            ShortVolume  ShortExemptVolume  TotalVolume Ticker\n",
      "Date                                                          \n",
      "2013-04-01      26659.0                0.0      94487.0   BIIB\n",
      "2013-04-02      15670.0             2000.0     163477.0   BIIB\n",
      "2013-04-03      13780.0                0.0      20562.0   BIIB\n",
      "2013-04-04      13290.0                0.0      68837.0   BIIB\n",
      "2013-04-05       4238.0                0.0      34539.0   BIIB\n",
      "...                 ...                ...          ...    ...\n",
      "2020-04-20       2971.0                0.0      10484.0    RJF\n",
      "2020-04-21       4901.0                0.0      11229.0    RJF\n",
      "2020-04-22       3053.0                0.0       5456.0    RJF\n",
      "2020-04-23       3403.0                0.0       4845.0    RJF\n",
      "2020-04-24       1577.0                0.0       3965.0    RJF\n",
      "\n",
      "[8875 rows x 4 columns]\n"
     ]
    }
   ],
   "source": [
    "# Check that it worked\n",
    "print(short_df.info())\n",
    "print(short_df)"
   ]
  },
  {
   "cell_type": "code",
   "execution_count": 65,
   "metadata": {},
   "outputs": [
    {
     "name": "stdout",
     "output_type": "stream",
     "text": [
      "                   ShortVolume  ShortExemptVolume  TotalVolume\n",
      "Ticker Date                                                   \n",
      "BIIB   2013-04-01      26659.0                0.0      94487.0\n",
      "       2013-04-02      15670.0             2000.0     163477.0\n",
      "       2013-04-03      13780.0                0.0      20562.0\n",
      "       2013-04-04      13290.0                0.0      68837.0\n",
      "       2013-04-05       4238.0                0.0      34539.0\n",
      "...                        ...                ...          ...\n",
      "RJF    2020-04-20       2971.0                0.0      10484.0\n",
      "       2020-04-21       4901.0                0.0      11229.0\n",
      "       2020-04-22       3053.0                0.0       5456.0\n",
      "       2020-04-23       3403.0                0.0       4845.0\n",
      "       2020-04-24       1577.0                0.0       3965.0\n",
      "\n",
      "[8875 rows x 3 columns]\n"
     ]
    }
   ],
   "source": [
    "# Set the multi-level index\n",
    "short_df.reset_index(inplace=True)\n",
    "short_df = short_df.set_index(['Ticker','Date'])\n",
    "\n",
    "print(short_df)"
   ]
  },
  {
   "cell_type": "code",
   "execution_count": 66,
   "metadata": {},
   "outputs": [],
   "source": [
    "# Calculate the short % of volume\n",
    "short_df['ShortPct']=short_df['ShortVolume'] / short_df['TotalVolume']"
   ]
  },
  {
   "cell_type": "code",
   "execution_count": 67,
   "metadata": {},
   "outputs": [],
   "source": [
    "# Drop the columns we don't need\n",
    "final_df = short_df.drop(['ShortVolume', 'ShortExemptVolume', 'TotalVolume'], axis=1)"
   ]
  },
  {
   "cell_type": "code",
   "execution_count": 68,
   "metadata": {},
   "outputs": [
    {
     "name": "stdout",
     "output_type": "stream",
     "text": [
      "                   ShortPct\n",
      "Ticker Date                \n",
      "BIIB   2013-04-01  0.282145\n",
      "       2013-04-02  0.095854\n",
      "       2013-04-03  0.670168\n",
      "       2013-04-04  0.193065\n",
      "       2013-04-05  0.122702\n",
      "...                     ...\n",
      "RJF    2020-04-20  0.283384\n",
      "       2020-04-21  0.436459\n",
      "       2020-04-22  0.559567\n",
      "       2020-04-23  0.702374\n",
      "       2020-04-24  0.397730\n",
      "\n",
      "[8875 rows x 1 columns]\n"
     ]
    }
   ],
   "source": [
    "# Check on my final_df so far\n",
    "print(final_df)"
   ]
  },
  {
   "cell_type": "markdown",
   "metadata": {},
   "source": [
    "Check in time - \n",
    "\n",
    "Now I've got my short trading percentage into my multi-indexed dataframe.  Nice!\n",
    "\n",
    "Last thing I need to do is use yfinance to download price info. From that, I'll calculate forward returns over 6mo, 1yr and 2yr.\n",
    "\n",
    "For this I need to go back to my sample_df that has tickers and security names."
   ]
  },
  {
   "cell_type": "code",
   "execution_count": 69,
   "metadata": {},
   "outputs": [
    {
     "name": "stdout",
     "output_type": "stream",
     "text": [
      "    ticker                          name\n",
      "70    BIIB                   Biogen Inc.\n",
      "239    HST         Host Hotels & Resorts\n",
      "258   INTU                   Intuit Inc.\n",
      "338    NEM           Newmont Corporation\n",
      "396    RJF  Raymond James Financial Inc.\n"
     ]
    }
   ],
   "source": [
    "# Import yfinance\n",
    "import yfinance as yf\n",
    "\n",
    "# Remind myself of what my sample_df looks like\n",
    "print(sample_df)"
   ]
  },
  {
   "cell_type": "code",
   "execution_count": 70,
   "metadata": {},
   "outputs": [],
   "source": [
    "# Set start and end dates for my loops\n",
    "start = '2013-04-01'\n",
    "end = '2020-04-24'\n",
    "\n",
    "# Initialize a price dataframe\n",
    "price_df = pd.DataFrame()\n",
    "\n",
    "# Look through my sample_df \n",
    "for ticker in sample_df['ticker']:\n",
    "    data = yf.download(ticker,\n",
    "                      start=start,\n",
    "                      end=end,\n",
    "                      progress=False)\n",
    "    data['Ticker']=ticker\n",
    "    price_df = price_df.append(data)"
   ]
  },
  {
   "cell_type": "code",
   "execution_count": 71,
   "metadata": {},
   "outputs": [
    {
     "name": "stdout",
     "output_type": "stream",
     "text": [
      "                         Open        High         Low       Close   Adj Close  \\\n",
      "Ticker Date                                                                     \n",
      "BIIB   2013-04-01  193.660004  196.779999  191.800003  192.770004  192.770004   \n",
      "       2013-04-02  194.940002  199.539993  194.229996  198.190002  198.190002   \n",
      "       2013-04-03  198.380005  199.050003  194.160004  195.740005  195.740005   \n",
      "       2013-04-04  197.759995  198.869995  194.479996  195.679993  195.679993   \n",
      "       2013-04-05  193.050003  193.990005  191.800003  193.309998  193.309998   \n",
      "...                       ...         ...         ...         ...         ...   \n",
      "RJF    2020-04-17   62.990002   64.750000   62.250000   63.669998   63.669998   \n",
      "       2020-04-20   62.230000   63.930000   61.389999   62.360001   62.360001   \n",
      "       2020-04-21   60.470001   61.700001   59.930000   61.279999   61.279999   \n",
      "       2020-04-22   62.680000   63.049999   61.840000   62.139999   62.139999   \n",
      "       2020-04-23   61.930000   63.150002   61.110001   61.349998   61.349998   \n",
      "\n",
      "                      Volume  \n",
      "Ticker Date                   \n",
      "BIIB   2013-04-01  2067300.0  \n",
      "       2013-04-02  2039300.0  \n",
      "       2013-04-03  1824400.0  \n",
      "       2013-04-04  1199200.0  \n",
      "       2013-04-05  1317900.0  \n",
      "...                      ...  \n",
      "RJF    2020-04-17  2824200.0  \n",
      "       2020-04-20   892800.0  \n",
      "       2020-04-21   868900.0  \n",
      "       2020-04-22  1049600.0  \n",
      "       2020-04-23   663800.0  \n",
      "\n",
      "[8901 rows x 6 columns]\n"
     ]
    }
   ],
   "source": [
    "# Set multi-level index\n",
    "price_df.reset_index(inplace=True)\n",
    "price_df = price_df.set_index(['Ticker','Date'])\n",
    "\n",
    "# Check data\n",
    "print(price_df)"
   ]
  },
  {
   "cell_type": "markdown",
   "metadata": {},
   "source": [
    "Ok, so I've got all of my stock price data into a dataframe.\n",
    "\n",
    "I need to figure out a way to to do something like this:\n",
    "\n",
    "df['6mo forward price'] = (X - df['Adj Close']) / df['Adj Close']\n",
    "\n",
    "Where X is the adjusted close price 6 months into the future (round forward to next market close date in the future if it lands on a date when the market was closed). \n",
    "\n",
    "Let's play around with this and see how we can figure out a way to say \"today's date plus 180 days\""
   ]
  },
  {
   "cell_type": "code",
   "execution_count": 72,
   "metadata": {},
   "outputs": [
    {
     "name": "stdout",
     "output_type": "stream",
     "text": [
      "                         Open        High         Low       Close   Adj Close  \\\n",
      "Ticker Date                                                                     \n",
      "BIIB   2013-04-01  193.660004  196.779999  191.800003  192.770004  192.770004   \n",
      "       2013-04-02  194.940002  199.539993  194.229996  198.190002  198.190002   \n",
      "       2013-04-03  198.380005  199.050003  194.160004  195.740005  195.740005   \n",
      "       2013-04-04  197.759995  198.869995  194.479996  195.679993  195.679993   \n",
      "       2013-04-05  193.050003  193.990005  191.800003  193.309998  193.309998   \n",
      "\n",
      "                      Volume today_date 6mo_forward_date 1y_forward_date  \\\n",
      "Ticker Date                                                                \n",
      "BIIB   2013-04-01  2067300.0 2013-04-01       2013-09-30      2014-03-31   \n",
      "       2013-04-02  2039300.0 2013-04-02       2013-10-01      2014-04-01   \n",
      "       2013-04-03  1824400.0 2013-04-03       2013-10-02      2014-04-02   \n",
      "       2013-04-04  1199200.0 2013-04-04       2013-10-03      2014-04-03   \n",
      "       2013-04-05  1317900.0 2013-04-05       2013-10-04      2014-04-04   \n",
      "\n",
      "                  2y_forward_date  \n",
      "Ticker Date                        \n",
      "BIIB   2013-04-01      2015-03-30  \n",
      "       2013-04-02      2015-03-31  \n",
      "       2013-04-03      2015-04-01  \n",
      "       2013-04-04      2015-04-02  \n",
      "       2013-04-05      2015-04-03  \n",
      "Open                       float64\n",
      "High                       float64\n",
      "Low                        float64\n",
      "Close                      float64\n",
      "Adj Close                  float64\n",
      "Volume                     float64\n",
      "today_date          datetime64[ns]\n",
      "6mo_forward_date    datetime64[ns]\n",
      "1y_forward_date     datetime64[ns]\n",
      "2y_forward_date     datetime64[ns]\n",
      "dtype: object\n"
     ]
    }
   ],
   "source": [
    "# Oh right....timedelta!\n",
    "# Looking into the documentation, timedelta only works with days or weeks, but another function from dateutil can help\n",
    "# relativedelta can add a number of months or years\n",
    "from dateutil.relativedelta import relativedelta\n",
    "\n",
    "# Create today's date and future dates for pricing\n",
    "price_df['today_date'] = price_df.index.get_level_values('Date')\n",
    "\n",
    "#### So I at least got a column with today's date, now i need to figure out how to use that with relative delta\n",
    "#price_df['6mo_forward_date'] = price_df['today_date'].now() + relativedelta(months=6)\n",
    "\n",
    "#### For now, I can just estimate it with weeks using timedelta, which is somethign I'm more familiar with\n",
    "from datetime import timedelta\n",
    "\n",
    "# Make my timedeltas\n",
    "td_6mo = timedelta(weeks=26)\n",
    "td_1yr = timedelta(weeks=52)\n",
    "td_2yr = timedelta(weeks=104)\n",
    "\n",
    "# Make my future dates\n",
    "price_df['6mo_forward_date'] = price_df['today_date'] + td_6mo\n",
    "price_df['1y_forward_date'] = price_df['today_date'] + td_1yr\n",
    "price_df['2y_forward_date'] = price_df['today_date'] + td_2yr\n",
    "\n",
    "# Check\n",
    "print(price_df.head())\n",
    "print(price_df.dtypes)"
   ]
  },
  {
   "cell_type": "code",
   "execution_count": 73,
   "metadata": {},
   "outputs": [
    {
     "name": "stdout",
     "output_type": "stream",
     "text": [
      "                         Open        High         Low       Close   Adj Close  \\\n",
      "Ticker Date                                                                     \n",
      "BIIB   2013-04-01  193.660004  196.779999  191.800003  192.770004  192.770004   \n",
      "       2013-04-02  194.940002  199.539993  194.229996  198.190002  198.190002   \n",
      "       2013-04-03  198.380005  199.050003  194.160004  195.740005  195.740005   \n",
      "       2013-04-04  197.759995  198.869995  194.479996  195.679993  195.679993   \n",
      "       2013-04-05  193.050003  193.990005  191.800003  193.309998  193.309998   \n",
      "\n",
      "                      Volume today_date 6mo_forward_date 1y_forward_date  \\\n",
      "Ticker Date                                                                \n",
      "BIIB   2013-04-01  2067300.0 2013-04-01       2013-09-30      2014-03-31   \n",
      "       2013-04-02  2039300.0 2013-04-02       2013-10-01      2014-04-01   \n",
      "       2013-04-03  1824400.0 2013-04-03       2013-10-02      2014-04-02   \n",
      "       2013-04-04  1199200.0 2013-04-04       2013-10-03      2014-04-03   \n",
      "       2013-04-05  1317900.0 2013-04-05       2013-10-04      2014-04-04   \n",
      "\n",
      "                  2y_forward_date  \n",
      "Ticker Date                        \n",
      "BIIB   2013-04-01      2015-03-30  \n",
      "       2013-04-02      2015-03-31  \n",
      "       2013-04-03      2015-04-01  \n",
      "       2013-04-04      2015-04-02  \n",
      "       2013-04-05      2015-04-03  \n",
      "Ticker  Date      \n",
      "BIIB    2013-04-04    195.679993\n",
      "Name: Adj Close, dtype: float64\n",
      "MultiIndex([('BIIB', '2013-04-01'),\n",
      "            ('BIIB', '2013-04-02'),\n",
      "            ('BIIB', '2013-04-03'),\n",
      "            ('BIIB', '2013-04-04'),\n",
      "            ('BIIB', '2013-04-05'),\n",
      "            ('BIIB', '2013-04-08'),\n",
      "            ('BIIB', '2013-04-09'),\n",
      "            ('BIIB', '2013-04-10'),\n",
      "            ('BIIB', '2013-04-11'),\n",
      "            ('BIIB', '2013-04-12'),\n",
      "            ...\n",
      "            ( 'RJF', '2020-04-09'),\n",
      "            ( 'RJF', '2020-04-13'),\n",
      "            ( 'RJF', '2020-04-14'),\n",
      "            ( 'RJF', '2020-04-15'),\n",
      "            ( 'RJF', '2020-04-16'),\n",
      "            ( 'RJF', '2020-04-17'),\n",
      "            ( 'RJF', '2020-04-20'),\n",
      "            ( 'RJF', '2020-04-21'),\n",
      "            ( 'RJF', '2020-04-22'),\n",
      "            ( 'RJF', '2020-04-23')],\n",
      "           names=['Ticker', 'Date'], length=8901)\n"
     ]
    }
   ],
   "source": [
    "### This cell turned into a bunch of exploration trying to figure out how to loop and create the forward prices\n",
    "\n",
    "print(price_df.head())\n",
    "\n",
    "# Note to self - while workign through this....remember when you're using .loc with multiindex you assign a tuple!\n",
    "print(price_df.loc[('BIIB','2013-04-04'), 'Adj Close'])\n",
    "\n",
    "print(price_df.index)\n",
    "\n",
    "# Assert just skips on if the condition is True, but will raise an error if false\n",
    "# So, the tuple below IS in the index\n",
    "assert ('BIIB','2013-04-04') in price_df.index\n",
    "\n",
    "# But this one will raise an error:\n",
    "#  assert '2013-04-04' in price_df.index\n",
    "\n",
    "### So, because I did the multi index, I'm going to need to loop through both index pieces"
   ]
  },
  {
   "cell_type": "code",
   "execution_count": 74,
   "metadata": {},
   "outputs": [],
   "source": [
    "### More exploration - here dealing with looping through both parts of the multiindex\n",
    "\n",
    "# Woudl this work?\n",
    "##for ticker, date in price_df.index:\n",
    "  ##  display(ticker + ' ' + str(date))\n",
    "    \n",
    "# This worked! It did make a huge ass list though so don't run it again\n",
    "\n",
    "# So that is how I can loop through both the tickers and the dates"
   ]
  },
  {
   "cell_type": "markdown",
   "metadata": {},
   "source": [
    "So I've got a plan now:\n",
    "\n",
    "First I'll make the 1yr_foward price....it may have been overly ambitious of me to shoot for creating all 3 at once!\n",
    "\n",
    "I'm going to loop through the entire dataframe, appending the price_df[(ticker, date), Adj Close] to my update list, if that value exists. If it doesn't exist....I'll put a NaN.\n",
    "\n",
    "I don't think the NaN will give us trouble down the road, because I can always dropna() before plotting.\n",
    "\n",
    "Now to get to work"
   ]
  },
  {
   "cell_type": "code",
   "execution_count": 75,
   "metadata": {},
   "outputs": [],
   "source": [
    "### Now to get to work on it\n",
    "\n",
    "# Need numpy for this part\n",
    "import numpy as np\n",
    "\n",
    "# Create list for assigning to price_df['1y_forward_price']\n",
    "update_list = []\n",
    "\n",
    "### Scrap all of this for now\n",
    "\n",
    "### TRY DOING IT THIS WAY USING pd.IndexSlice()\n",
    "\n",
    "# Loop through and add the Adj Close price of the 1y_forward_date\n",
    "#for date in price_df['1y_forward_date']:\n",
    " #   for ticker in sample_df['ticker']:\n",
    "  #      update_list.append(price_df.loc[(ticker, date), 'Adj Close'])\n",
    "\n",
    "### I think I have the update_list here....next step is to assign it to a new column: price_df['1yr_forward_price']\n",
    "#price_df['1y_forward_price'] = update_list\n",
    "### then print that to verify\n",
    "#print(price_df.head())"
   ]
  },
  {
   "cell_type": "code",
   "execution_count": 76,
   "metadata": {},
   "outputs": [
    {
     "name": "stdout",
     "output_type": "stream",
     "text": [
      "Ticker  Date      \n",
      "BIIB    2014-03-31    305.869995\n",
      "Name: Adj Close, dtype: float64\n"
     ]
    }
   ],
   "source": [
    "### verify \n",
    "\n",
    "print(price_df.loc[('BIIB', '2014-03-31'), 'Adj Close'])"
   ]
  },
  {
   "cell_type": "markdown",
   "metadata": {},
   "source": [
    "Alright, I'm going to completely change plans here....I think it might be more effective to loop through the list of tickers and generate the entire list of forward dates and prices one by one.\n",
    "\n",
    "That helps me get around the multi-level index looping issue that I'm running into. \n",
    "\n",
    "I'm going to try creating a new df that is just 'BIIB' and then generating that forward price list."
   ]
  },
  {
   "cell_type": "code",
   "execution_count": 77,
   "metadata": {},
   "outputs": [
    {
     "name": "stdout",
     "output_type": "stream",
     "text": [
      "                         Open        High         Low       Close   Adj Close  \\\n",
      "Ticker Date                                                                     \n",
      "BIIB   2020-04-17  345.970001  346.049988  335.290009  342.549988  342.549988   \n",
      "       2020-04-20  338.640015  350.239990  337.279999  339.410004  339.410004   \n",
      "       2020-04-21  332.510010  336.190002  328.369995  329.010010  329.010010   \n",
      "       2020-04-22  302.750000  306.989990  289.019989  298.010010  298.010010   \n",
      "       2020-04-23  293.609985  297.440002  291.570007  292.250000  292.250000   \n",
      "\n",
      "                      Volume today_date 6mo_forward_date 1y_forward_date  \\\n",
      "Ticker Date                                                                \n",
      "BIIB   2020-04-17  1701800.0 2020-04-17       2020-10-16      2021-04-16   \n",
      "       2020-04-20  1620700.0 2020-04-20       2020-10-19      2021-04-19   \n",
      "       2020-04-21  1521800.0 2020-04-21       2020-10-20      2021-04-20   \n",
      "       2020-04-22  6652500.0 2020-04-22       2020-10-21      2021-04-21   \n",
      "       2020-04-23  2911100.0 2020-04-23       2020-10-22      2021-04-22   \n",
      "\n",
      "                  2y_forward_date  \n",
      "Ticker Date                        \n",
      "BIIB   2020-04-17      2022-04-15  \n",
      "       2020-04-20      2022-04-18  \n",
      "       2020-04-21      2022-04-19  \n",
      "       2020-04-22      2022-04-20  \n",
      "       2020-04-23      2022-04-21  \n",
      "Ticker  Date      \n",
      "BIIB    2013-04-01   2014-03-31\n",
      "        2013-04-02   2014-04-01\n",
      "        2013-04-03   2014-04-02\n",
      "        2013-04-04   2014-04-03\n",
      "        2013-04-05   2014-04-04\n",
      "Name: 1y_forward_date, dtype: datetime64[ns]\n",
      "                  Open        High         Low       Close   Adj Close  \\\n",
      "Date                                                                     \n",
      "2013-04-01  193.660004  196.779999  191.800003  192.770004  192.770004   \n",
      "2013-04-02  194.940002  199.539993  194.229996  198.190002  198.190002   \n",
      "2013-04-03  198.380005  199.050003  194.160004  195.740005  195.740005   \n",
      "2013-04-04  197.759995  198.869995  194.479996  195.679993  195.679993   \n",
      "2013-04-05  193.050003  193.990005  191.800003  193.309998  193.309998   \n",
      "\n",
      "               Volume today_date 6mo_forward_date 1y_forward_date  \\\n",
      "Date                                                                \n",
      "2013-04-01  2067300.0 2013-04-01       2013-09-30      2014-03-31   \n",
      "2013-04-02  2039300.0 2013-04-02       2013-10-01      2014-04-01   \n",
      "2013-04-03  1824400.0 2013-04-03       2013-10-02      2014-04-02   \n",
      "2013-04-04  1199200.0 2013-04-04       2013-10-03      2014-04-03   \n",
      "2013-04-05  1317900.0 2013-04-05       2013-10-04      2014-04-04   \n",
      "\n",
      "           2y_forward_date  \n",
      "Date                        \n",
      "2013-04-01      2015-03-30  \n",
      "2013-04-02      2015-03-31  \n",
      "2013-04-03      2015-04-01  \n",
      "2013-04-04      2015-04-02  \n",
      "2013-04-05      2015-04-03  \n"
     ]
    }
   ],
   "source": [
    "BIIB_df = price_df.loc[['BIIB']]\n",
    "\n",
    "print(BIIB_df.tail())\n",
    "\n",
    "print(BIIB_df['1y_forward_date'][:5])\n",
    "\n",
    "BIIB_df= BIIB_df.reset_index()\n",
    "BIIB_df.drop('Ticker', axis=1, inplace=True)\n",
    "BIIB_df=BIIB_df.set_index('Date')\n",
    "print(BIIB_df.head())"
   ]
  },
  {
   "cell_type": "code",
   "execution_count": 78,
   "metadata": {},
   "outputs": [
    {
     "name": "stdout",
     "output_type": "stream",
     "text": [
      "<class 'pandas.core.frame.DataFrame'>\n",
      "DatetimeIndex: 1780 entries, 2013-04-01 to 2020-04-23\n",
      "Data columns (total 10 columns):\n",
      "Open                1780 non-null float64\n",
      "High                1780 non-null float64\n",
      "Low                 1780 non-null float64\n",
      "Close               1780 non-null float64\n",
      "Adj Close           1780 non-null float64\n",
      "Volume              1780 non-null float64\n",
      "today_date          1780 non-null datetime64[ns]\n",
      "6mo_forward_date    1780 non-null datetime64[ns]\n",
      "1y_forward_date     1780 non-null datetime64[ns]\n",
      "2y_forward_date     1780 non-null datetime64[ns]\n",
      "dtypes: datetime64[ns](4), float64(6)\n",
      "memory usage: 153.0 KB\n",
      "None\n"
     ]
    }
   ],
   "source": [
    "print(BIIB_df.info())\n",
    "\n"
   ]
  },
  {
   "cell_type": "code",
   "execution_count": 79,
   "metadata": {},
   "outputs": [],
   "source": [
    "update_list = []\n",
    "\n",
    "for date in BIIB_df['1y_forward_date']:\n",
    "    if date in BIIB_df.index:\n",
    "        update_list.append(BIIB_df.loc[date, 'Adj Close'])\n",
    "    else:\n",
    "        update_list.append(np.nan)\n"
   ]
  },
  {
   "cell_type": "code",
   "execution_count": 80,
   "metadata": {},
   "outputs": [
    {
     "name": "stdout",
     "output_type": "stream",
     "text": [
      "                  Open   Adj Close today_date 1y_forward_date  \\\n",
      "Date                                                            \n",
      "2013-04-01  193.660004  192.770004 2013-04-01      2014-03-31   \n",
      "2013-04-02  194.940002  198.190002 2013-04-02      2014-04-01   \n",
      "2013-04-03  198.380005  195.740005 2013-04-03      2014-04-02   \n",
      "2013-04-04  197.759995  195.679993 2013-04-04      2014-04-03   \n",
      "2013-04-05  193.050003  193.309998 2013-04-05      2014-04-04   \n",
      "\n",
      "            1y_forward_price  \n",
      "Date                          \n",
      "2013-04-01        305.869995  \n",
      "2013-04-02        309.790009  \n",
      "2013-04-03        309.700012  \n",
      "2013-04-04        301.859985  \n",
      "2013-04-05        288.269989  \n"
     ]
    }
   ],
   "source": [
    "## Did that loop work?\n",
    "BIIB_df['1y_forward_price'] = update_list\n",
    "\n",
    "# Clean up for this example\n",
    "BIIB_df.drop(['High', 'Low', 'Close', '6mo_forward_date', '2y_forward_date', 'Volume'], axis=1, inplace=True)\n",
    "\n",
    "# Check\n",
    "print(BIIB_df.head())"
   ]
  },
  {
   "cell_type": "code",
   "execution_count": 81,
   "metadata": {},
   "outputs": [
    {
     "name": "stdout",
     "output_type": "stream",
     "text": [
      "Date\n",
      "2014-03-31    305.869995\n",
      "2014-04-01    309.790009\n",
      "2014-04-02    309.700012\n",
      "2014-04-03    301.859985\n",
      "2014-04-04    288.269989\n",
      "Name: Adj Close, dtype: float64\n"
     ]
    }
   ],
   "source": [
    "# Confirm that the close prices on those dates match\n",
    "print(BIIB_df.loc['2014-03-31':'2014-04-04', 'Adj Close'])"
   ]
  },
  {
   "cell_type": "code",
   "execution_count": 82,
   "metadata": {},
   "outputs": [
    {
     "name": "stdout",
     "output_type": "stream",
     "text": [
      "                  Open   Adj Close today_date 1y_forward_date  \\\n",
      "Date                                                            \n",
      "2013-04-01  193.660004  192.770004 2013-04-01      2014-03-31   \n",
      "2013-04-02  194.940002  198.190002 2013-04-02      2014-04-01   \n",
      "2013-04-03  198.380005  195.740005 2013-04-03      2014-04-02   \n",
      "2013-04-04  197.759995  195.679993 2013-04-04      2014-04-03   \n",
      "2013-04-05  193.050003  193.309998 2013-04-05      2014-04-04   \n",
      "\n",
      "            1y_forward_price  1y_forward_return  \n",
      "Date                                             \n",
      "2013-04-01        305.869995           0.586709  \n",
      "2013-04-02        309.790009           0.563096  \n",
      "2013-04-03        309.700012           0.582201  \n",
      "2013-04-04        301.859985           0.542621  \n",
      "2013-04-05        288.269989           0.491232  \n",
      "<class 'pandas.core.frame.DataFrame'>\n",
      "DatetimeIndex: 1780 entries, 2013-04-01 to 2020-04-23\n",
      "Data columns (total 6 columns):\n",
      "Open                 1780 non-null float64\n",
      "Adj Close            1780 non-null float64\n",
      "today_date           1780 non-null datetime64[ns]\n",
      "1y_forward_date      1780 non-null datetime64[ns]\n",
      "1y_forward_price     1501 non-null float64\n",
      "1y_forward_return    1501 non-null float64\n",
      "dtypes: datetime64[ns](2), float64(4)\n",
      "memory usage: 177.3 KB\n",
      "None\n"
     ]
    }
   ],
   "source": [
    "# They do! Sweet\n",
    "\n",
    "# Now, calculate the returns\n",
    "BIIB_df['1y_forward_return'] = (BIIB_df['1y_forward_price'] - BIIB_df['Adj Close']) / BIIB_df['Adj Close']\n",
    "\n",
    "# Confirm\n",
    "print(BIIB_df.head())\n",
    "print(BIIB_df.info())"
   ]
  },
  {
   "cell_type": "code",
   "execution_count": 83,
   "metadata": {},
   "outputs": [
    {
     "name": "stdout",
     "output_type": "stream",
     "text": [
      "                  Open   Adj Close today_date 1y_forward_date  \\\n",
      "Date                                                            \n",
      "2013-04-01  193.660004  192.770004 2013-04-01      2014-03-31   \n",
      "2013-04-02  194.940002  198.190002 2013-04-02      2014-04-01   \n",
      "2013-04-03  198.380005  195.740005 2013-04-03      2014-04-02   \n",
      "2013-04-04  197.759995  195.679993 2013-04-04      2014-04-03   \n",
      "2013-04-05  193.050003  193.309998 2013-04-05      2014-04-04   \n",
      "\n",
      "            1y_forward_price  1y_forward_return  \n",
      "Date                                             \n",
      "2013-04-01        305.869995           0.586709  \n",
      "2013-04-02        309.790009           0.563096  \n",
      "2013-04-03        309.700012           0.582201  \n",
      "2013-04-04        301.859985           0.542621  \n",
      "2013-04-05        288.269989           0.491232  \n",
      "            ShortPct\n",
      "Date                \n",
      "2013-04-01  0.282145\n",
      "2013-04-02  0.095854\n",
      "2013-04-03  0.670168\n",
      "2013-04-04  0.193065\n",
      "2013-04-05  0.122702\n",
      "<class 'pandas.core.frame.DataFrame'>\n",
      "DatetimeIndex: 1776 entries, 2013-04-01 to 2020-04-24\n",
      "Data columns (total 1 columns):\n",
      "ShortPct    1776 non-null float64\n",
      "dtypes: float64(1)\n",
      "memory usage: 27.8 KB\n",
      "None\n"
     ]
    }
   ],
   "source": [
    "### Now to go back to my final_df - here I would append the forward return column\n",
    "\n",
    "### Here I'm going to create a final BIIB to make it just for BIIB\n",
    "BIIB_final = final_df.loc[['BIIB']]\n",
    "\n",
    "BIIB_final = BIIB_final.reset_index()\n",
    "BIIB_final.drop('Ticker', axis=1, inplace=True)\n",
    "BIIB_final=BIIB_final.set_index('Date')\n",
    "print(BIIB_df.head())\n",
    "\n",
    "# Check\n",
    "print(BIIB_final.head())\n",
    "print(BIIB_final.info())"
   ]
  },
  {
   "cell_type": "code",
   "execution_count": 84,
   "metadata": {},
   "outputs": [
    {
     "name": "stdout",
     "output_type": "stream",
     "text": [
      "[Timestamp('2016-08-17 00:00:00'), Timestamp('2017-02-21 00:00:00'), Timestamp('2017-12-01 00:00:00'), Timestamp('2018-06-29 00:00:00'), Timestamp('2018-07-12 00:00:00')]\n"
     ]
    }
   ],
   "source": [
    "# Create a list of Dates that are in BIIB_df but NOT in BIIB_final\n",
    "\n",
    "drop_list = []\n",
    "\n",
    "# Loop through BIIB_df index and append to drop_list if not in BIIB_final's index\n",
    "for date in BIIB_df.index:\n",
    "    if not date in BIIB_final.index:\n",
    "        drop_list.append(date)\n",
    "        \n",
    "print(drop_list)"
   ]
  },
  {
   "cell_type": "code",
   "execution_count": 85,
   "metadata": {},
   "outputs": [],
   "source": [
    "BIIB_df = BIIB_df.drop(drop_list, axis=0)"
   ]
  },
  {
   "cell_type": "code",
   "execution_count": 86,
   "metadata": {},
   "outputs": [
    {
     "name": "stdout",
     "output_type": "stream",
     "text": [
      "<class 'pandas.core.frame.DataFrame'>\n",
      "DatetimeIndex: 1775 entries, 2013-04-01 to 2020-04-23\n",
      "Data columns (total 6 columns):\n",
      "Open                 1775 non-null float64\n",
      "Adj Close            1775 non-null float64\n",
      "today_date           1775 non-null datetime64[ns]\n",
      "1y_forward_date      1775 non-null datetime64[ns]\n",
      "1y_forward_price     1496 non-null float64\n",
      "1y_forward_return    1496 non-null float64\n",
      "dtypes: datetime64[ns](2), float64(4)\n",
      "memory usage: 97.1 KB\n",
      "None\n",
      "<class 'pandas.core.frame.DataFrame'>\n",
      "DatetimeIndex: 1776 entries, 2013-04-01 to 2020-04-24\n",
      "Data columns (total 1 columns):\n",
      "ShortPct    1776 non-null float64\n",
      "dtypes: float64(1)\n",
      "memory usage: 107.8 KB\n",
      "None\n"
     ]
    }
   ],
   "source": [
    "print(BIIB_df.info())\n",
    "print(BIIB_final.info())"
   ]
  },
  {
   "cell_type": "code",
   "execution_count": 87,
   "metadata": {},
   "outputs": [
    {
     "name": "stdout",
     "output_type": "stream",
     "text": [
      "[Timestamp('2020-04-24 00:00:00')]\n"
     ]
    }
   ],
   "source": [
    "drop_list = []\n",
    "\n",
    "# For some reason it took one too many away, going to reverse it - this is all stuff to trash in final version\n",
    "for date in BIIB_final.index:\n",
    "    if not date in BIIB_df.index:\n",
    "        drop_list.append(date)\n",
    "        \n",
    "print(drop_list)"
   ]
  },
  {
   "cell_type": "code",
   "execution_count": 88,
   "metadata": {},
   "outputs": [
    {
     "name": "stdout",
     "output_type": "stream",
     "text": [
      "<class 'pandas.core.frame.DataFrame'>\n",
      "DatetimeIndex: 1775 entries, 2013-04-01 to 2020-04-23\n",
      "Data columns (total 1 columns):\n",
      "ShortPct    1775 non-null float64\n",
      "dtypes: float64(1)\n",
      "memory usage: 27.7 KB\n",
      "None\n",
      "<class 'pandas.core.frame.DataFrame'>\n",
      "DatetimeIndex: 1775 entries, 2013-04-01 to 2020-04-23\n",
      "Data columns (total 6 columns):\n",
      "Open                 1775 non-null float64\n",
      "Adj Close            1775 non-null float64\n",
      "today_date           1775 non-null datetime64[ns]\n",
      "1y_forward_date      1775 non-null datetime64[ns]\n",
      "1y_forward_price     1496 non-null float64\n",
      "1y_forward_return    1496 non-null float64\n",
      "dtypes: datetime64[ns](2), float64(4)\n",
      "memory usage: 177.1 KB\n",
      "None\n"
     ]
    }
   ],
   "source": [
    "BIIB_final.drop(drop_list, inplace=True)\n",
    "print(BIIB_final.info())\n",
    "print(BIIB_df.info())"
   ]
  },
  {
   "cell_type": "code",
   "execution_count": 89,
   "metadata": {},
   "outputs": [
    {
     "name": "stdout",
     "output_type": "stream",
     "text": [
      "            ShortPct  1y_forward_return\n",
      "Date                                   \n",
      "2013-04-01  0.282145           0.586709\n",
      "2013-04-02  0.095854           0.563096\n",
      "2013-04-03  0.670168           0.582201\n",
      "2013-04-04  0.193065           0.542621\n",
      "2013-04-05  0.122702           0.491232\n"
     ]
    }
   ],
   "source": [
    "BIIB_final['1y_forward_return'] = BIIB_df['1y_forward_return']\n",
    "\n",
    "print(BIIB_final.head())"
   ]
  },
  {
   "cell_type": "code",
   "execution_count": 90,
   "metadata": {},
   "outputs": [
    {
     "name": "stdout",
     "output_type": "stream",
     "text": [
      "            ShortPct  1y_forward_return\n",
      "Date                                   \n",
      "2013-04-01  0.282145          -0.413291\n",
      "2013-04-02  0.095854          -0.436904\n",
      "2013-04-03  0.670168          -0.417799\n",
      "2013-04-04  0.193065          -0.457379\n",
      "2013-04-05  0.122702          -0.508768\n"
     ]
    }
   ],
   "source": [
    "BIIB_final['1y_forward_return'] = BIIB_final['1y_forward_return'] - 1\n",
    "\n",
    "print(BIIB_final.head())"
   ]
  },
  {
   "cell_type": "code",
   "execution_count": 91,
   "metadata": {},
   "outputs": [
    {
     "data": {
      "image/png": "[encoded data removed]",
      "text/plain": [
       "<Figure size 432x288 with 2 Axes>"
      ]
     },
     "metadata": {},
     "output_type": "display_data"
    }
   ],
   "source": [
    "import matplotlib.pyplot as plt\n",
    "\n",
    "from pandas.plotting import register_matplotlib_converters\n",
    "register_matplotlib_converters()\n",
    "\n",
    "plt.style.use('ggplot')\n",
    "\n",
    "fig, ax = plt.subplots()\n",
    "\n",
    "ax.plot(BIIB_final.index, BIIB_final['ShortPct'])\n",
    "ax.set_ylabel('Short % of Total Daily Volume')\n",
    "ax.set_xlabel('Time')\n",
    "\n",
    "ax2 = ax.twinx()\n",
    "\n",
    "ax2.plot(BIIB_final.index, BIIB_final['1y_forward_return'], color='b')\n",
    "ax2.set_ylabel('% ROI 1 Year Out')\n",
    "\n",
    "plt.show()"
   ]
  },
  {
   "cell_type": "markdown",
   "metadata": {},
   "source": [
    "Wow - so I got down to it and it looks like the daily Short Volume trading data is soooooo volatile that it becomes super noisy.\n",
    "\n",
    "I definitely want to clean up this project and make the code much more concise, but then I also want to look into what the industry standard is for short % interest. Right now it's just so gobsmackingly up and down and all over the place.\n",
    "\n",
    "How can I find what the total volume of short shares outstanding is?\n",
    "\n",
    "That's really what I need...not the daily total of short trades.\n",
    "\n",
    "This was still an awesome exercise!\n",
    "\n",
    "I'm going to revise this project still....open a new notebook and start fresh on that one, but keep this one up side by side so that I can look back to the learnings from this one\n",
    "\n",
    "---\n"
   ]
  }
 ],
 "metadata": {
  "kernelspec": {
   "display_name": "Python 3",
   "language": "python",
   "name": "python3"
  },
  "language_info": {
   "codemirror_mode": {
    "name": "ipython",
    "version": 3
   },
   "file_extension": ".py",
   "mimetype": "text/x-python",
   "name": "python",
   "nbconvert_exporter": "python",
   "pygments_lexer": "ipython3",
   "version": "3.7.6"
  }
 },
 "nbformat": 4,
 "nbformat_minor": 2
}
